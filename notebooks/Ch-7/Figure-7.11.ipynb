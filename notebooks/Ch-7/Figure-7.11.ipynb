{
 "cells": [
  {
   "cell_type": "markdown",
   "metadata": {},
   "source": [
    "# Electrode size affects spike shapes"
   ]
  },
  {
   "cell_type": "code",
   "execution_count": null,
   "metadata": {},
   "outputs": [],
   "source": [
    "%matplotlib inline\n",
    "import numpy as np\n",
    "import matplotlib.pyplot as plt\n",
    "from matplotlib.collections import PolyCollection\n",
    "from matplotlib.patches import Ellipse\n",
    "import LFPy\n",
    "from brainsignals.plotting_convention import mark_subplots, simplify_axes\n",
    "from brainsignals.neural_simulations import return_hay_cell\n",
    "import brainsignals.neural_simulations as ns\n",
    "\n",
    "np.random.seed(12345)\n",
    "ns.load_mechs_from_folder(ns.cell_models_folder)"
   ]
  },
  {
   "cell_type": "code",
   "execution_count": null,
   "metadata": {},
   "outputs": [],
   "source": [
    "def insert_current_stimuli(cell):\n",
    "    stim_params = {'amp': -0.4,\n",
    "                   'idx': 0,\n",
    "                   'pptype': \"ISyn\",\n",
    "                   'dur': 1e9,\n",
    "                   'delay': 0}\n",
    "    synapse = LFPy.StimIntElectrode(cell, **stim_params)\n",
    "    return synapse, cell"
   ]
  },
  {
   "cell_type": "code",
   "execution_count": null,
   "metadata": {},
   "outputs": [],
   "source": [
    "tstop = 150\n",
    "# Time window to extract spike from:\n",
    "t0 = 118\n",
    "t1 = 123\n",
    "\n",
    "dt = 2**-6\n",
    "cell = return_hay_cell(tstop=tstop, dt=dt, make_passive=False)\n",
    "ns.point_axon_down(cell)\n",
    "syn, cell = insert_current_stimuli(cell)\n",
    "cell.simulate(rec_imem=True, rec_vmem=True)\n",
    "t0_idx = np.argmin(np.abs(cell.tvec - t0))\n",
    "t1_idx = np.argmin(np.abs(cell.tvec - t1))\n",
    "\n",
    "cell.vmem = cell.vmem[:, t0_idx:t1_idx]\n",
    "cell.imem = cell.imem[:, t0_idx:t1_idx]\n",
    "cell.tvec = cell.tvec[t0_idx:t1_idx] - cell.tvec[t0_idx]\n",
    "\n",
    "elec_radii = np.array([1, 10, 25, 50])\n",
    "\n",
    "eaps = []\n",
    "\n",
    "elec_params = dict(\n",
    "            sigma = 0.3,      # extracellular conductivity\n",
    "            x = np.array([20]),\n",
    "            y = np.array([0]),\n",
    "            z = np.array([0]),\n",
    "            method = 'root_as_point',\n",
    "        )\n",
    "\n",
    "for elec_radius in elec_radii:\n",
    "    if elec_radius > 1e-9:\n",
    "        elec_params.update(\n",
    "            N = np.array([[1, 0, 0]]), # surface normals\n",
    "            r = elec_radius,           # contact site radius\n",
    "            n = elec_radius * 10,      # datapoints for averaging\n",
    "        )\n",
    "\n",
    "    elec = LFPy.RecExtElectrode(cell, **elec_params)\n",
    "    LFP = elec.get_transformation_matrix() @ cell.imem * 1000\n",
    "    eaps.append(LFP[0])\n"
   ]
  },
  {
   "cell_type": "code",
   "execution_count": null,
   "metadata": {},
   "outputs": [],
   "source": [
    "elec_clrs = {r: plt.cm.Reds(0.1 + i / (len(elec_radii) - 1))\n",
    "             for i, r in enumerate(elec_radii)}\n",
    "\n",
    "plt.close(\"all\")\n",
    "fig = plt.figure(figsize=[6, 3.2])\n",
    "fig.subplots_adjust(left=0.14, bottom=0.18, top=0.85, right=0.98,\n",
    "                    hspace=0.5)\n",
    "\n",
    "ax_morph = fig.add_axes([0.01, 0.03, 0.7, 0.96], frameon=False, aspect=1,\n",
    "                        xticks=[], yticks=[], xlim=[-150, 150],\n",
    "                        ylim=[-100, 100])\n",
    "\n",
    "ax_eap = fig.add_axes([0.75, 0.57, 0.24, 0.3],\n",
    "                      xlabel=\"time (ms)\", ylabel=\"µV\")\n",
    "ax_eap_norm = fig.add_axes([0.75, 0.1, 0.24, 0.3],\n",
    "                           xlabel=\"time (ms)\", ylabel=\"normalized\")\n",
    "\n",
    "zips = []\n",
    "for x, z in cell.get_pt3d_polygons():\n",
    "    zips.append(list(zip(x, z)))\n",
    "polycol = PolyCollection(zips, edgecolors='none',\n",
    "                         facecolors='gray', zorder=100, rasterized=False)\n",
    "ax_morph.add_collection(polycol)\n",
    "\n",
    "lines = []\n",
    "line_names = []\n",
    "for i, elec_radius in enumerate(elec_radii):\n",
    "    c = elec_clrs[elec_radius]\n",
    "\n",
    "    if elec_radius > 1e-9:\n",
    "        el = Ellipse((elec.x[0], elec.z[0]), elec_radius / 2, 2*elec_radius,\n",
    "                 facecolor=c, clip_on=False, zorder=-i)\n",
    "        ax_morph.add_artist(el)\n",
    "    else:\n",
    "        ax_morph.plot(elec.x[0], elec.z[0], '.', c=c, ms=3)\n",
    "\n",
    "    l, = ax_eap.plot(cell.tvec, eaps[i], c=c)\n",
    "    ax_eap_norm.plot(cell.tvec, eaps[i] / np.max(np.abs(eaps[i])), c=c)\n",
    "    lines.append(l)\n",
    "    line_names.append(\"$r$=%d µm\" % elec_radius)\n",
    "\n",
    "fig.legend(lines, line_names, loc=\"lower left\", frameon=False, ncol=4)\n",
    "mark_subplots(ax_morph, ypos=0.95, xpos=0.1)\n",
    "mark_subplots([ax_eap, ax_eap_norm], \"BC\")\n",
    "simplify_axes(fig.axes)\n",
    "fig.savefig(\"fig_elec_size_effect.pdf\")\n"
   ]
  },
  {
   "cell_type": "code",
   "execution_count": null,
   "metadata": {},
   "outputs": [],
   "source": []
  }
 ],
 "metadata": {
  "kernelspec": {
   "display_name": "Python 3 (ipykernel)",
   "language": "python",
   "name": "python3"
  },
  "language_info": {
   "codemirror_mode": {
    "name": "ipython",
    "version": 3
   },
   "file_extension": ".py",
   "mimetype": "text/x-python",
   "name": "python",
   "nbconvert_exporter": "python",
   "pygments_lexer": "ipython3",
   "version": "3.11.3"
  }
 },
 "nbformat": 4,
 "nbformat_minor": 4
}
