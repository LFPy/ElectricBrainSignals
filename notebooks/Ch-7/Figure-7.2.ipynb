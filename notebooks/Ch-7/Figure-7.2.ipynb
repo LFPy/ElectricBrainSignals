{
 "cells": [
  {
   "cell_type": "markdown",
   "metadata": {},
   "source": [
    "# Delta pulses and frequency content"
   ]
  },
  {
   "cell_type": "code",
   "execution_count": null,
   "metadata": {},
   "outputs": [],
   "source": [
    "%matplotlib inline\n",
    "import numpy as np\n",
    "import matplotlib.pyplot as plt\n",
    "from brainsignals.plotting_convention import mark_subplots, simplify_axes\n",
    "import brainsignals.neural_simulations as ns"
   ]
  },
  {
   "cell_type": "code",
   "execution_count": null,
   "metadata": {},
   "outputs": [],
   "source": [
    "tstop = 200\n",
    "dt = 2**-6\n",
    "tvec = np.arange(0, tstop + dt, dt)\n",
    "\n",
    "eap = np.zeros((2, len(tvec)))\n",
    "eap[0, int(len(eap[0]) / 2) - 25] = -100\n",
    "eap[0, int(len(eap[0]) / 2) + 25] = 50\n",
    "eap[1, int(len(eap[0]) / 2)] = -100\n",
    "\n",
    "freqs_eap, eap_psd = ns.return_freq_and_amplitude(tvec, eap)\n",
    "\n",
    "plt.close(\"all\")\n",
    "fig = plt.figure(figsize=[6, 2.4])\n",
    "fig.subplots_adjust(left=0.1, bottom=0.25, top=0.85, right=0.95,\n",
    "                    hspace=0.5)\n",
    "\n",
    "ax_eap = fig.add_subplot(121, title=\"delta pulse\",\n",
    "                         xlabel=\"time (ms)\", ylabel=\"µV\", xlim=[-6, 6])\n",
    "ax_eap_psd = fig.add_subplot(122, title=\"delta pulse\\nFourier amplitudes\",\n",
    "                             xlabel=\"frequency (Hz)\", ylabel=\"µV / Hz\",\n",
    "                             ylim=[0, 0.03], xlim=[0, 2000])\n",
    "\n",
    "l1, = ax_eap.plot(tvec - tvec[int(len(eap[0]) / 2)], eap[0], c='k', lw=1.5)\n",
    "l2, = ax_eap.plot(tvec - tvec[int(len(eap[0]) / 2)], eap[1], c='r', lw=1.5)\n",
    "\n",
    "\n",
    "ax_eap_psd.plot(freqs_eap, eap_psd[0], 'k', lw=1.5)\n",
    "ax_eap_psd.plot(freqs_eap, eap_psd[1], 'r', lw=1.5)\n",
    "\n",
    "fig.legend([l2, l1], [\"single delta pulse\", \"two asymmetric delta pulses\"],\n",
    "           ncol=2, frameon=False, loc=\"lower right\")\n",
    "\n",
    "mark_subplots(fig.axes)\n",
    "simplify_axes(fig.axes)\n",
    "\n",
    "fig.savefig(\"fig_delta_pulse_freq_content.pdf\")\n"
   ]
  },
  {
   "cell_type": "code",
   "execution_count": null,
   "metadata": {},
   "outputs": [],
   "source": []
  },
  {
   "cell_type": "code",
   "execution_count": null,
   "metadata": {},
   "outputs": [],
   "source": []
  }
 ],
 "metadata": {
  "kernelspec": {
   "display_name": "Python 3 (ipykernel)",
   "language": "python",
   "name": "python3"
  },
  "language_info": {
   "codemirror_mode": {
    "name": "ipython",
    "version": 3
   },
   "file_extension": ".py",
   "mimetype": "text/x-python",
   "name": "python",
   "nbconvert_exporter": "python",
   "pygments_lexer": "ipython3",
   "version": "3.11.3"
  }
 },
 "nbformat": 4,
 "nbformat_minor": 4
}
