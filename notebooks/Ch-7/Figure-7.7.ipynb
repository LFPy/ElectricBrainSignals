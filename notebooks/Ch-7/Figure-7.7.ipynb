{
 "cells": [
  {
   "cell_type": "markdown",
   "metadata": {},
   "source": [
    "# Proxies for spike shapes for Hay model"
   ]
  },
  {
   "cell_type": "code",
   "execution_count": null,
   "metadata": {},
   "outputs": [],
   "source": [
    "%matplotlib inline\n",
    "import numpy as np\n",
    "import matplotlib.pyplot as plt\n",
    "import neuron   \n",
    "import LFPy\n",
    "import scipy.fftpack as ff\n",
    "from brainsignals.plotting_convention import simplify_axes\n",
    "from brainsignals.neural_simulations import return_hay_cell\n",
    "import brainsignals.neural_simulations as ns\n",
    "h = neuron.h\n",
    "\n",
    "np.random.seed(12345)\n",
    "ns.load_mechs_from_folder(ns.cell_models_folder)"
   ]
  },
  {
   "cell_type": "code",
   "execution_count": null,
   "metadata": {},
   "outputs": [],
   "source": [
    "def insert_current_stimuli(cell):\n",
    "    stim_params = {'amp': -0.4,\n",
    "                   'idx': 0,\n",
    "                   'pptype': \"ISyn\",\n",
    "                   'dur': 1e9,\n",
    "                   'delay': 0}\n",
    "    synapse = LFPy.StimIntElectrode(cell, **stim_params)\n",
    "    return synapse, cell"
   ]
  },
  {
   "cell_type": "code",
   "execution_count": null,
   "metadata": {},
   "outputs": [],
   "source": [
    "dt = 2**-6\n",
    "tstop = 150\n",
    "\n",
    "# Time window to extract spike from:\n",
    "t0 = 118\n",
    "t1 = 123\n",
    "\n",
    "cell = return_hay_cell(tstop=tstop, dt=dt, make_passive=False)\n",
    "ns.point_axon_down(cell)\n",
    "syn, cell = insert_current_stimuli(cell)\n",
    "cell.simulate(rec_imem=True, rec_vmem=True)\n",
    "t0_idx = np.argmin(np.abs(cell.tvec - t0))\n",
    "t1_idx = np.argmin(np.abs(cell.tvec - t1))\n",
    "\n",
    "cell.vmem = cell.vmem[:, t0_idx:t1_idx]\n",
    "cell.imem = cell.imem[:, t0_idx:t1_idx]\n",
    "cell.tvec = cell.tvec[t0_idx:t1_idx] - cell.tvec[t0_idx]\n"
   ]
  },
  {
   "cell_type": "code",
   "execution_count": null,
   "metadata": {},
   "outputs": [],
   "source": [
    "elec_params = dict(\n",
    "            sigma = 0.3,      # extracellular conductivity\n",
    "            x = np.array([0, 100, 200, 1000]),\n",
    "            y = np.zeros(4),\n",
    "            z = np.zeros(4),\n",
    "            method = 'root_as_point',\n",
    "        )\n",
    "\n",
    "elec = LFPy.RecExtElectrode(cell, **elec_params)\n",
    "M_elec = elec.get_transformation_matrix()\n",
    "eaps = M_elec @ cell.imem * 1000\n",
    "\n",
    "vmem = cell.vmem\n",
    "tvec = cell.tvec"
   ]
  },
  {
   "cell_type": "code",
   "execution_count": null,
   "metadata": {},
   "outputs": [],
   "source": [
    "print(cell.d[0]/2)\n",
    "vmem_shifted = vmem[0, :] - np.linspace(vmem[0, 0], vmem[0, -1], vmem.shape[1])\n",
    "eaps[0] -= eaps[0, 0]\n",
    "eaps[1] -= eaps[1, 0]\n",
    "\n",
    "somav_fft = ff.fft(vmem_shifted)\n",
    "sample_freq = ff.fftfreq(vmem_shifted.shape[0], d=dt / 1000)\n",
    "eap_prox = -ff.ifft(np.emath.sqrt(1j * sample_freq) * somav_fft)\n",
    "\n",
    "plt.close(\"all\")\n",
    "fig = plt.figure(figsize=[6, 2.3])\n",
    "fig.subplots_adjust(wspace=0.2, left=0.1, right=0.98, bottom=0.15, top=0.97)\n",
    "\n",
    "ax2 = fig.add_subplot(111, xlim=[-1, 2], ylabel=\"normalized\", xlabel=\"time (ms)\")\n",
    "\n",
    "l1, = ax2.plot(tvec - tvec[np.argmax(np.abs(eaps[0]))], eaps[0] / np.max(np.abs(eaps[0])), 'k', lw=2)\n",
    "l2, = ax2.plot(tvec - tvec[np.argmax(np.abs(eaps[1]))], eaps[1] / np.max(np.abs(eaps[1])), 'k--', lw=2)\n",
    "l3, = ax2.plot(tvec - tvec[np.argmax(np.abs(eap_prox))], np.real(eap_prox) / np.max(np.abs(eap_prox)), c='r', lw=1)\n",
    "l4, = ax2.plot(tvec[1:] - tvec[np.argmax(np.abs(np.diff(vmem[0])))], -np.diff(vmem[0]) / np.max(np.abs(np.diff(vmem[0]))), c='b', lw=1)\n",
    "l5, = ax2.plot(tvec - tvec[np.argmax(np.abs(vmem_shifted))], -vmem_shifted / np.max(np.abs(vmem_shifted)), c='gray', lw=1)\n",
    "\n",
    "fig.legend([l1, l2,\n",
    "            l3, l4, l5], [r\"$V_{\\rm e}$ (6.7 µm)\", r\"$V_{\\rm e}$ (100 µm)\",\n",
    "                                  r\"$\\sqrt{f}\\hat{V}_{\\rm m,s}(f)$\", \n",
    "                          r\"$dV_{\\rm m,s}/dt$\", r\"-$V_{\\rm m,s}$\"], frameon=False, \n",
    "           loc=(0.63, 0.32), ncol=2)\n",
    "\n",
    "simplify_axes(fig.axes)\n",
    "fig.savefig(\"spike_proxies_hay.pdf\")"
   ]
  },
  {
   "cell_type": "code",
   "execution_count": null,
   "metadata": {},
   "outputs": [],
   "source": []
  }
 ],
 "metadata": {
  "kernelspec": {
   "display_name": "Python 3 (ipykernel)",
   "language": "python",
   "name": "python3"
  },
  "language_info": {
   "codemirror_mode": {
    "name": "ipython",
    "version": 3
   },
   "file_extension": ".py",
   "mimetype": "text/x-python",
   "name": "python",
   "nbconvert_exporter": "python",
   "pygments_lexer": "ipython3",
   "version": "3.11.3"
  }
 },
 "nbformat": 4,
 "nbformat_minor": 4
}
