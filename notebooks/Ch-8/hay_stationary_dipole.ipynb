{
 "cells": [
  {
   "cell_type": "markdown",
   "metadata": {},
   "source": [
    "# Illustration of that the Hay model has stationary dipole"
   ]
  },
  {
   "cell_type": "code",
   "execution_count": null,
   "metadata": {},
   "outputs": [],
   "source": [
    "%matplotlib inline\n",
    "import numpy as np\n",
    "import matplotlib.pyplot as plt\n",
    "import LFPy\n",
    "from brainsignals.plotting_convention import mark_subplots, cmap_v_e\n",
    "from brainsignals.neural_simulations import return_hay_cell\n",
    "\n",
    "np.random.seed(12345)\n",
    "\n",
    "# Create a grid of measurement locations, in (um)\n",
    "grid_x, grid_z = np.mgrid[-650:651:20, -700:1600:20]\n",
    "grid_y = np.ones(grid_x.shape) * 0\n",
    "\n",
    "sigma = 0.3  # S/m\n",
    "\n",
    "# Define electrode parameters\n",
    "grid_elec_params = {\n",
    "    'sigma': sigma,      # extracellular conductivity\n",
    "    'x': grid_x.flatten(),  # electrode positions\n",
    "    'y': grid_y.flatten(),\n",
    "    'z': grid_z.flatten(),\n",
    "    'method': 'linesource'\n",
    "}\n",
    "\n"
   ]
  },
  {
   "cell_type": "markdown",
   "metadata": {},
   "source": [
    "### Running all simulations"
   ]
  },
  {
   "cell_type": "code",
   "execution_count": null,
   "metadata": {},
   "outputs": [],
   "source": [
    "tstop = 5000\n",
    "dt = 2**-4\n",
    "\n",
    "cell = return_hay_cell(tstop=tstop, dt=dt, make_passive=False)\n",
    "grid_electrode = LFPy.RecExtElectrode(cell, **grid_elec_params)\n",
    "\n",
    "cell.simulate(rec_imem=True)\n",
    "plt.plot(cell.tvec, cell.somav)\n",
    "plt.xlabel(\"time (ms)\")\n",
    "plt.ylabel(\"somatic membrane potential (mV)\")\n",
    "t_idx = -1\n",
    "cell.imem = cell.imem[:, t_idx:]\n",
    "LFP = 1000 * grid_electrode.get_transformation_matrix() @ cell.imem\n"
   ]
  },
  {
   "cell_type": "markdown",
   "metadata": {},
   "source": [
    "### Plotting results"
   ]
  },
  {
   "cell_type": "code",
   "execution_count": null,
   "metadata": {},
   "outputs": [],
   "source": [
    "\n",
    "ax_lfp_dict = dict(aspect=1, frameon=False, xticks=[], yticks=[],\n",
    "                   ylim=[np.min(grid_z) - 5, np.max(grid_z) + 5],\n",
    "                   xlim=[np.min(grid_x) - 5, np.max(grid_x) + 5])\n",
    "    \n",
    "plt.close(\"all\")\n",
    "fig = plt.figure(figsize=[2.2, 3])\n",
    "fig.subplots_adjust(bottom=0.02, top=0.98, right=0.85,\n",
    "                    left=-0.15, wspace=-0.0, hspace=-0.1)\n",
    "\n",
    "ax = fig.add_subplot(111, **ax_lfp_dict)\n",
    "\n",
    "max_amp_LFP = np.max(np.abs(LFP[:, 0]))\n",
    "\n",
    "LFP_grid = LFP[:, 0].reshape(grid_x.shape)\n",
    "num = 7\n",
    "levels = np.logspace(-1.5, 0, num=num)\n",
    "\n",
    "scale_max = 0.5#np.max(np.abs(LFP))\n",
    "\n",
    "levels_norm = scale_max * np.concatenate((-levels[::-1], levels))\n",
    "\n",
    "colors_from_map = [cmap_v_e(i/(len(levels_norm) - 2))\n",
    "                   for i in range(len(levels_norm) -1)]\n",
    "colors_from_map[num - 1] = (1.0, 1.0, 1.0, 1.0)\n",
    "\n",
    "img = ax.contourf(grid_x, grid_z, LFP_grid,\n",
    "                               zorder=2, colors=colors_from_map,\n",
    "                               levels=levels_norm, extend='both')\n",
    "\n",
    "ax.contour(grid_x, grid_z, LFP_grid, colors='k', linewidths=(1), zorder=2,\n",
    "               levels=levels_norm)\n",
    "\n",
    "ax.plot(cell.x.T, cell.z.T, lw=1, c='gray')\n",
    "cax = fig.add_axes([0.67, 0.25, 0.02, 0.5], frameon=False)\n",
    "cbar = fig.colorbar(img, cax=cax, orientation='vertical')\n",
    "cbar.set_label('$V_{\\mathrm{e}}$ (µV)', labelpad=0)\n",
    "cbar.set_ticks(np.array([-1, -0.2, -0.05, 0.05, 0.2, 1]) * scale_max)\n",
    "\n",
    "fig.savefig(\"fig_hay_stationary_dipole.pdf\")"
   ]
  },
  {
   "cell_type": "markdown",
   "metadata": {},
   "source": [
    "### Test for population"
   ]
  },
  {
   "cell_type": "code",
   "execution_count": null,
   "metadata": {},
   "outputs": [],
   "source": [
    "# Define electrode parameters\n",
    "num_elecs = 30\n",
    "elec_params = {\n",
    "    'sigma': sigma,      # extracellular conductivity\n",
    "    'x': np.zeros(num_elecs),  # electrode positions\n",
    "    'y': np.zeros(num_elecs),\n",
    "    'z': np.linspace(-400, 1600, num_elecs),\n",
    "    'method': 'linesource'\n",
    "}\n",
    "\n",
    "num_cells = 1000\n",
    "pop_height = 200  # µm\n",
    "cell_density = 80000 * 1e-9 # cells / mm³\n",
    "pop_radius = np.sqrt(num_cells / (cell_density * np.pi * pop_height))\n",
    "\n",
    "rs = pop_radius * np.sqrt(np.random.rand(num_cells))\n",
    "theta = np.random.uniform(0, 2 * np.pi, num_cells)\n",
    "pop_xs = rs * np.cos(theta)\n",
    "pop_ys = rs * np.sin(theta)\n",
    "pop_zs = np.random.uniform(-pop_height/2, pop_height/2, num_cells)\n",
    "cell_rots = np.random.uniform(0, 2 * np.pi, num_cells)\n",
    "\n",
    "print(f\"Population radius: {pop_radius: 1.1f} µm\")\n",
    "\n",
    "lfp_dc = np.zeros(num_elecs)\n",
    "\n",
    "fig = plt.figure()\n",
    "ax1 = fig.add_subplot(121, aspect=1, frameon=False, xticks=[], yticks=[])\n",
    "ax2 = fig.add_subplot(122, xlabel=\"$V_{\\mathrm{e}}$ (µV)\", ylabel=\"height (µm)\", title=\"stationary potential\")\n",
    "num_cells_to_plot = 20\n",
    "cell_clrs = lambda idx: plt.cm.Greys(0.4 + idx / num_cells_to_plot * 0.6)\n",
    "for cell_idx in range(num_cells):\n",
    "    cell.set_pos(x=pop_xs[cell_idx], y=pop_ys[cell_idx], z=pop_zs[cell_idx])\n",
    "    cell.set_rotation(z=cell_rots[cell_idx])\n",
    "    electrode = LFPy.RecExtElectrode(cell, **elec_params)\n",
    "    LFP = 1000 * electrode.get_transformation_matrix() @ cell.imem[:, -1]\n",
    "    lfp_dc += LFP\n",
    "    if cell_idx < num_cells_to_plot:\n",
    "        ax1.plot(cell.x.T, cell.z.T, c=cell_clrs(cell_idx), lw=1)\n",
    "    \n",
    "ax2.plot(lfp_dc, elec_params[\"z\"], c='k')\n",
    "ax1.plot(elec_params[\"x\"], elec_params[\"z\"], 'o', ms=3, c='darkcyan');"
   ]
  },
  {
   "cell_type": "code",
   "execution_count": null,
   "metadata": {},
   "outputs": [],
   "source": []
  }
 ],
 "metadata": {
  "kernelspec": {
   "display_name": "Python 3 (ipykernel)",
   "language": "python",
   "name": "python3"
  },
  "language_info": {
   "codemirror_mode": {
    "name": "ipython",
    "version": 3
   },
   "file_extension": ".py",
   "mimetype": "text/x-python",
   "name": "python",
   "nbconvert_exporter": "python",
   "pygments_lexer": "ipython3",
   "version": "3.11.3"
  }
 },
 "nbformat": 4,
 "nbformat_minor": 4
}
