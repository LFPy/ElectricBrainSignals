{
 "cells": [
  {
   "cell_type": "code",
   "execution_count": null,
   "id": "7ecac179",
   "metadata": {},
   "outputs": [],
   "source": [
    "%matplotlib inline\n",
    "import numpy as np\n",
    "import matplotlib.pyplot as plt\n",
    "from brainsignals.plotting_convention import mark_subplots, simplify_axes\n",
    "\n",
    "fig = plt.figure(figsize=[6, 2])\n",
    "fig.subplots_adjust(bottom=0.17, top=0.85, right=0.98, wspace=0.2)\n",
    "ax1 = fig.add_subplot(121, xlabel=\"$r$ (µm)\", ylabel=\"$F(r)$ / $F_0$\", ylim=[-0.01, 1.01])\n",
    "ax2 = fig.add_subplot(122, xlabel=\"$r$ (µm)\", ylabel=\"$F(r)$ / $F_0$\", ylim=[-0.01, 1.01])\n",
    "\n",
    "F_0 = 1\n",
    "r = np.linspace(0, 1000, 1000)\n",
    "\n",
    "r_eps = 10\n",
    "r_star = 60\n",
    "\n",
    "F = np.zeros(len(r))\n",
    "F[(r < r_eps)] = F_0\n",
    "F[(r_eps <= r) & (r < r_star)] = F_0 * np.sqrt(r_eps / r[(r_eps <= r) & (r < r_star)])\n",
    "F[r >= r_star] = F_0 * np.sqrt(r_eps / r_star) * (r_star / r[r >= r_star])**2\n",
    "ax1.plot(r, F, c='k')\n",
    "ax1.axvline(r_star, ls='--', c='gray')\n",
    "\n",
    "r_star = 300\n",
    "F = np.zeros(len(r))\n",
    "F[(r < r_star)] = F_0\n",
    "F[r >= r_star] = F_0 * (r_star / r[r >= r_star])**2\n",
    "ax2.plot(r, F, c='k')\n",
    "ax2.axvline(r_star, ls='--', c='gray')\n",
    "\n",
    "simplify_axes([ax1, ax2])\n",
    "mark_subplots([ax1, ax2])\n",
    "plt.savefig(\"shape_function_phenomenological.pdf\")\n"
   ]
  },
  {
   "cell_type": "code",
   "execution_count": null,
   "id": "0b688938",
   "metadata": {},
   "outputs": [],
   "source": []
  }
 ],
 "metadata": {
  "kernelspec": {
   "display_name": "Python 3 (ipykernel)",
   "language": "python",
   "name": "python3"
  },
  "language_info": {
   "codemirror_mode": {
    "name": "ipython",
    "version": 3
   },
   "file_extension": ".py",
   "mimetype": "text/x-python",
   "name": "python",
   "nbconvert_exporter": "python",
   "pygments_lexer": "ipython3",
   "version": "3.11.3"
  }
 },
 "nbformat": 4,
 "nbformat_minor": 5
}
