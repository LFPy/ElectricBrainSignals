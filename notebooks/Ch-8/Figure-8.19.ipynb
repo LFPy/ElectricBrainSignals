{
 "cells": [
  {
   "cell_type": "markdown",
   "id": "189717bb",
   "metadata": {},
   "source": [
    "# Subthreshold response to somatic current injection is close to linear "
   ]
  },
  {
   "cell_type": "code",
   "execution_count": null,
   "id": "209ddb74",
   "metadata": {},
   "outputs": [],
   "source": [
    "%matplotlib inline\n",
    "import numpy as np\n",
    "import matplotlib.pyplot as plt\n",
    "import LFPy\n",
    "from brainsignals.plotting_convention import mark_subplots, simplify_axes\n",
    "from brainsignals.neural_simulations import return_hay_cell\n",
    "\n",
    "np.random.seed(12345)"
   ]
  },
  {
   "cell_type": "code",
   "execution_count": null,
   "id": "eddeb84b",
   "metadata": {},
   "outputs": [],
   "source": [
    "def insert_current_stimuli(amp, cell, delay):\n",
    "\n",
    "    stim_params = {'amp': amp,\n",
    "                   'idx': 0,\n",
    "                   'pptype': \"IClamp\",\n",
    "                   'dur': 1e9,\n",
    "                   'delay': delay}\n",
    "    synapse = LFPy.StimIntElectrode(cell, **stim_params)\n",
    "    return synapse, cell\n",
    "\n",
    "current_amps = np.linspace(-0.45, 0.45, 15)  # 118 221,\n",
    "\n",
    "tstop = 50\n",
    "dt = 2**-5\n",
    "delay = 5\n",
    "dVs = np.zeros(len(current_amps))\n",
    "somavs = []\n",
    "tvec = None\n",
    "\n",
    "for i, amp in enumerate(current_amps):\n",
    "    cell = return_hay_cell(tstop=tstop, dt=dt, make_passive=False)\n",
    "    syn, cell = insert_current_stimuli(amp, cell, delay=delay)\n",
    "    cell.simulate(rec_imem=False, rec_vmem=True)\n",
    "    v = cell.vmem[0, :]\n",
    "    t0_idx = np.argmin(np.abs(cell.tvec - delay)) - 1\n",
    "    dV_max_idx = np.argmax(np.abs(v - v[t0_idx]))\n",
    "    dVs[i] = v[dV_max_idx] - v[t0_idx]\n",
    "    somavs.append(v.copy())\n",
    "    tvec = cell.tvec.copy()\n",
    "    del cell\n",
    "    del syn\n"
   ]
  },
  {
   "cell_type": "code",
   "execution_count": null,
   "id": "880b57b7",
   "metadata": {},
   "outputs": [],
   "source": [
    "plt.close(\"all\")\n",
    "fig = plt.figure(figsize=[6, 2])\n",
    "fig.subplots_adjust(bottom=0.17, top=0.85, right=0.99,\n",
    "                    left=0.1, wspace=0.3)\n",
    "\n",
    "\n",
    "ax1 = fig.add_subplot(121, xlabel=\"time (ms)\",\n",
    "                      ylabel=r\"somatic $V_{\\rm m}$ (mV)\")\n",
    "ax2 = fig.add_subplot(122, xlabel=r\"$I_{\\rm inj}$ (nA)\", ylabel=r\"max $\\Delta V_{\\rm m}$ (mV)\")\n",
    "for i, amp in enumerate(current_amps):\n",
    "    ax1.plot(tvec, somavs[i], 'k', lw=1)\n",
    "\n",
    "ax2.plot(current_amps, dVs, 'k-o', ms=5, lw=1)\n",
    "ax2.plot([current_amps[0], current_amps[-2]], [dVs[0], dVs[-2]], 'r--')\n",
    "\n",
    "mark_subplots(fig.axes)\n",
    "simplify_axes(fig.axes)\n",
    "fig.savefig(\"fig_hay_subthresh_linearity.pdf\")\n"
   ]
  },
  {
   "cell_type": "code",
   "execution_count": null,
   "id": "a6e9b135",
   "metadata": {},
   "outputs": [],
   "source": []
  }
 ],
 "metadata": {
  "kernelspec": {
   "display_name": "Python 3 (ipykernel)",
   "language": "python",
   "name": "python3"
  },
  "language_info": {
   "codemirror_mode": {
    "name": "ipython",
    "version": 3
   },
   "file_extension": ".py",
   "mimetype": "text/x-python",
   "name": "python",
   "nbconvert_exporter": "python",
   "pygments_lexer": "ipython3",
   "version": "3.11.3"
  }
 },
 "nbformat": 4,
 "nbformat_minor": 5
}
