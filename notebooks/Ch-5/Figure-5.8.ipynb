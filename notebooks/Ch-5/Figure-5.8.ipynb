{
 "cells": [
  {
   "cell_type": "markdown",
   "metadata": {},
   "source": [
    "# Illustration of Method of Images"
   ]
  },
  {
   "cell_type": "code",
   "execution_count": null,
   "metadata": {},
   "outputs": [],
   "source": [
    "%matplotlib inline\n",
    "import numpy as np\n",
    "import matplotlib.pyplot as plt\n",
    "from brainsignals.plotting_convention import mark_subplots, cmap_v_e"
   ]
  },
  {
   "cell_type": "code",
   "execution_count": null,
   "metadata": {},
   "outputs": [],
   "source": [
    "def point_source_potential(elec_locs, sources_pos, imem):\n",
    "\n",
    "    num_elecs = elec_locs.shape[1]\n",
    "    num_sources = sources_pos.shape[1]\n",
    "    r2 = np.zeros((num_elecs, num_sources))\n",
    "    for elec in range(num_elecs):\n",
    "        for s in range(num_sources):\n",
    "            r2[elec, s] = np.sum([(sources_pos[n, s] - elec_locs[n, elec])**2\n",
    "                                 for n in range(3)])\n",
    "\n",
    "    mapping = 1 / (4 * np.pi * sigma * np.sqrt(r2))\n",
    "    v_e = mapping @ imem * 1000\n",
    "    return v_e"
   ]
  },
  {
   "cell_type": "code",
   "execution_count": null,
   "metadata": {},
   "outputs": [],
   "source": [
    "\n",
    "h = 100\n",
    "sigma = 0.3 # s/m\n",
    "source_pos = np.array([0, 0, -h])\n",
    "mirror_pos = np.array([0, 0, h])\n",
    "\n",
    "imem_1 = np.array([1., 1])\n",
    "imem_2 = np.array([1., -1])\n",
    "\n",
    "sources_pos = np.array([source_pos, mirror_pos]).T\n",
    "\n",
    "fig = plt.figure(figsize=[6, 2.2])\n",
    "\n",
    "plt.subplots_adjust(hspace=0.3, wspace=0.1, right=0.98, left=0.05, top=0.98, bottom=0.02)\n",
    "\n",
    "ax1 = fig.add_subplot(121, aspect=1, frameon=False,\n",
    "                   xticks=[], yticks=[], title=r\"$\\sigma_1 = 0.3$ S/m; $\\sigma_2 = 0$\")\n",
    "ax2 = fig.add_subplot(122, aspect=1, frameon=False,\n",
    "                   xticks=[], yticks=[], title=r\"$\\sigma_1 = 0.3$ S/m; $\\sigma_2 = \\infty$\")\n",
    "\n",
    "\n",
    "ax1.plot(source_pos[0], source_pos[2], 'o', ms=5, color='k', zorder=1)\n",
    "ax1.plot(mirror_pos[0], mirror_pos[2], 'o', ms=5, color='k', zorder=1)\n",
    "\n",
    "ax2.plot(source_pos[0], source_pos[2], 'o', ms=5, color='k', zorder=1)\n",
    "ax2.plot(mirror_pos[0], mirror_pos[2], 'o', ms=5, color='k', zorder=1)\n",
    "\n",
    "grid_x, grid_z = np.mgrid[-501:501:5, -350:351:5]\n",
    "grid_y = np.zeros(grid_x.shape)\n",
    "\n",
    "electrode_grid = np.array([grid_x.flatten(),\n",
    "                           grid_y.flatten(),\n",
    "                           grid_z.flatten()])\n",
    "\n",
    "V_e_1 = point_source_potential(electrode_grid, sources_pos, imem_1)\n",
    "V_e_2 = point_source_potential(electrode_grid, sources_pos, imem_2)\n",
    "\n",
    "V_e_1 = V_e_1.reshape(grid_x.shape)\n",
    "V_e_2 = V_e_2.reshape(grid_x.shape)\n",
    "\n",
    "num = 15\n",
    "levels = np.logspace(-3, 0, num=num)\n",
    "\n",
    "scale_max = np.max(np.abs(V_e_1))\n",
    "print(scale_max)\n",
    "\n",
    "levels_norm = scale_max * np.concatenate((-levels[::-1], levels))\n",
    "\n",
    "colors_from_map = [cmap_v_e(i/(len(levels_norm) - 2))\n",
    "                   for i in range(len(levels_norm) -1)]\n",
    "colors_from_map[num - 1] = (1.0, 1.0, 1.0, 1.0)\n",
    "\n",
    "\n",
    "ep_2m = ax1.contourf(grid_x, grid_z, V_e_1,\n",
    "                           zorder=-2, colors=colors_from_map,\n",
    "                           levels=levels_norm, extend='both')\n",
    "ep_2m = ax1.contour(grid_x, grid_z, V_e_1,\n",
    "                           zorder=-2, colors='k', linewidths=1,\n",
    "                           levels=levels_norm, extend='both')\n",
    "\n",
    "ep_2m = ax2.contourf(grid_x, grid_z, V_e_2,\n",
    "                           zorder=-2, colors=colors_from_map,\n",
    "                           levels=levels_norm, extend='both')\n",
    "ep_2m = ax2.contour(grid_x, grid_z, V_e_2,\n",
    "                           zorder=-2, colors='k', linewidths=1,\n",
    "                           levels=levels_norm, extend='both')\n",
    "for ax in [ax1, ax2]:\n",
    "    ax.plot([-500, 500], [0, 0], ls='--', c='gray')\n",
    "    ax.plot([530, 530], [0, h], '-', marker='_', lw=2, c='k',solid_capstyle='butt')\n",
    "    ax.plot([530, 530], [0, -h], '-', marker='_', lw=2, c='k',solid_capstyle='butt')\n",
    "    ax.text(540, h/2, \"$h$\", va='center')\n",
    "    ax.text(540, -h/2, \"$h$\", va='center')\n",
    "    ax.text(-550, -h/2, \"$\\sigma_1$\", va='center')\n",
    "    ax.text(-550, h/2, \"$\\sigma_2$\", va='center')\n",
    "mark_subplots([ax1, ax2], xpos=-0.05, ypos=1.05)\n",
    "fig.savefig(\"mirror_point_source_illustration.pdf\")\n"
   ]
  },
  {
   "cell_type": "code",
   "execution_count": null,
   "metadata": {},
   "outputs": [],
   "source": []
  }
 ],
 "metadata": {
  "kernelspec": {
   "display_name": "Python 3 (ipykernel)",
   "language": "python",
   "name": "python3"
  },
  "language_info": {
   "codemirror_mode": {
    "name": "ipython",
    "version": 3
   },
   "file_extension": ".py",
   "mimetype": "text/x-python",
   "name": "python",
   "nbconvert_exporter": "python",
   "pygments_lexer": "ipython3",
   "version": "3.11.3"
  }
 },
 "nbformat": 4,
 "nbformat_minor": 4
}
