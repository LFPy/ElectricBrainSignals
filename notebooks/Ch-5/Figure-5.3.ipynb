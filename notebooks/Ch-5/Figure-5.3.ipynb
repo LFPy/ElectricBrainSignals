{
 "cells": [
  {
   "cell_type": "markdown",
   "metadata": {},
   "source": [
    "# Plot literature review of conductivities\n",
    "The resulting figure is essentially the same as was shown in Miceli et al. (2017)"
   ]
  },
  {
   "cell_type": "code",
   "execution_count": null,
   "metadata": {},
   "outputs": [],
   "source": [
    "import matplotlib.pyplot as plt\n",
    "from brainsignals.plotting_convention import simplify_axes\n",
    "\n",
    "review_dict = {}\n",
    "review_dict['Ranck (1963)'] = [[5, 5000], [1./3.56, 1./2.56]]\n",
    "review_dict['Logothetis et al. (2007)'] = [[10, 5000], [1./2.47, 1./2.47*1.259]]\n",
    "review_dict['Wagner et al. (2014)'] = [[10, 50, 100, 500, 1000, 5000, 10000],\n",
    "                                            [0.3208, 0.3576, 0.3336, 0.3576, 0.4026, 0.6128, 0.6335]]\n",
    "\n",
    "review_dict['Elbohouty (2013)'] = [[20, 100, 1000, 2000], [0.28, 0.3, 0.34, 0.35]]\n",
    "\n",
    "review_dict['Gabriel et al. (1996)'] = [[1.0e+01, 3.162e+01, 1.0e+02,\n",
    "                                              3.162e+02, 1.0e+03, 3.162e+03, 1.0e+04],\n",
    "                                            [2.751e-02, 5.954e-02, 8.902e-02,\n",
    "                                             9.52e-02, 9.881e-02, 1.06e-01, 1.149e-01]]\n",
    "\n",
    "review_dict['Miceli et al. (2017)'] = [[5, 60, 100, 300, 500],\n",
    "                                       [0.41314083, 0.45369772, 0.47308637, 0.53176775, 0.62255758]]\n",
    "\n",
    "fig = plt.figure(figsize=[6, 3])\n",
    "fig.subplots_adjust(bottom=0.17, left=0.1, right=0.7)\n",
    "ax1 = fig.add_subplot(111, xlabel='frequency (Hz)', \n",
    "                      ylabel='conductivity (S/m)',\n",
    "                     ylim=[1e-2, 1e0])\n",
    "ax1.grid(True)\n",
    "lines = []\n",
    "line_names = []\n",
    "keys = review_dict.keys()\n",
    "\n",
    "\n",
    "for key in keys:\n",
    "    data = review_dict[key]\n",
    "    l, = ax1.loglog(data[0], data[1], label=key, lw=2)\n",
    "    lines.append(l)\n",
    "    line_names.append(key)\n",
    "ax1.axhline(0.3, c='gray', ls='--')\n",
    "fig.legend(lines, line_names, frameon=False, ncol=1, loc='right')\n",
    "simplify_axes(ax1)\n",
    "\n",
    "plt.savefig('sigma_review.pdf')"
   ]
  },
  {
   "cell_type": "code",
   "execution_count": null,
   "metadata": {},
   "outputs": [],
   "source": []
  }
 ],
 "metadata": {
  "kernelspec": {
   "display_name": "Python 3 (ipykernel)",
   "language": "python",
   "name": "python3"
  },
  "language_info": {
   "codemirror_mode": {
    "name": "ipython",
    "version": 3
   },
   "file_extension": ".py",
   "mimetype": "text/x-python",
   "name": "python",
   "nbconvert_exporter": "python",
   "pygments_lexer": "ipython3",
   "version": "3.11.3"
  }
 },
 "nbformat": 4,
 "nbformat_minor": 4
}
