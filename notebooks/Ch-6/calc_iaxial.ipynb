{
 "cells": [
  {
   "cell_type": "markdown",
   "metadata": {},
   "source": [
    "# Analytical expressions for axial currents\n",
    "Some derivations supporting Ch.6, computing analytical expressions axial currents in interconnected compartments shown in Figure 6.1"
   ]
  },
  {
   "cell_type": "code",
   "execution_count": null,
   "metadata": {},
   "outputs": [],
   "source": [
    "# import modules\n",
    "from sympy import *"
   ]
  },
  {
   "cell_type": "code",
   "execution_count": null,
   "metadata": {},
   "outputs": [],
   "source": [
    "# define symbols\n",
    "# d_*: diameter of the compartment (m)\n",
    "# L_*: length of the compartment (m)\n",
    "# r_a: axial resistivity (ohm.m)\n",
    "# V_mc*: membrane potential of the compartment (mV)\n",
    "d_j, d_1, d_2, d_3, L_j, L_1, L_2, L_3, r_a, V_mcj, V_mc1, V_mc2, V_mc3 = \\\n",
    "    symbols('d_j d_1 d_2 d_3 L_j L_1 L_2 L_3 r_a V_mcj V_mc1 V_mc2 V_mc3')"
   ]
  },
  {
   "cell_type": "markdown",
   "metadata": {},
   "source": [
    "## axial currents in two-compartment model"
   ]
  },
  {
   "cell_type": "code",
   "execution_count": null,
   "metadata": {},
   "outputs": [],
   "source": [
    "# total resistance along segment 1 and 2\n",
    "R_1 = 4 * r_a * L_1 / pi / d_1**2  # (ohm.m * m / m^2 = ohm)\n",
    "R_2 = 4 * r_a * L_2 / pi / d_2**2\n",
    "\n",
    "# potential at start point equal to center potential, compartment 1:\n",
    "V_mi1 = V_mc1 # (V)\n",
    "# potential at end point, compartment 1 (eq. 6.7):\n",
    "V_mf1 = (V_mc1 / R_1 / 2 + V_mc2 / R_2 / 2) / (1 / R_1 / 2 + 1 / R_2 / 2) # (V)\n",
    "# potential at start point, compartment 2:\n",
    "V_mi2 = V_mf1\n",
    "# potential at end point equal to center potential, compartment 2:\n",
    "V_mf2 = V_mc2\n",
    "\n",
    "# axial current of compartment 1 and 2 (eq. 6.5)\n",
    "I_a1 = pi * d_1**2 / (4 * r_a * L_1) * (V_mi1 - V_mf1) # (m^2 * V / (ohm.m * m) = A)\n",
    "I_a2 = pi * d_2**2 / (4 * r_a * L_2) * (V_mi2 - V_mf2)\n",
    "\n",
    "# simplify \n",
    "I_a1 = I_a1.simplify()\n",
    "I_a2 = I_a2.simplify()"
   ]
  },
  {
   "cell_type": "code",
   "execution_count": null,
   "metadata": {},
   "outputs": [],
   "source": [
    "I_a1,"
   ]
  },
  {
   "cell_type": "code",
   "execution_count": null,
   "metadata": {},
   "outputs": [],
   "source": [
    "I_a1"
   ]
  },
  {
   "cell_type": "code",
   "execution_count": null,
   "metadata": {},
   "outputs": [],
   "source": [
    "I_a2"
   ]
  },
  {
   "cell_type": "code",
   "execution_count": null,
   "metadata": {},
   "outputs": [],
   "source": [
    "I_a1 == I_a2"
   ]
  },
  {
   "cell_type": "code",
   "execution_count": null,
   "metadata": {},
   "outputs": [],
   "source": [
    "latex(I_a1)"
   ]
  },
  {
   "cell_type": "code",
   "execution_count": null,
   "metadata": {},
   "outputs": [],
   "source": [
    "# linear combination\n",
    "I_a = (pi*d_1**2*d_2**2 / (4*r_a*(L_1*d_2**2 + L_2*d_1**2)) * Matrix([[1,-1], [1, -1]]) * Matrix([V_mc1, V_mc2]))\n",
    "I_a.simplify()\n",
    "I_a"
   ]
  },
  {
   "cell_type": "code",
   "execution_count": null,
   "metadata": {},
   "outputs": [],
   "source": [
    "# display inverted form not possible: Matrix det == 0; not invertible.\n",
    "# A = (- pi*d_1**2*d_2**2 / (4*R_a*(L_1*d_2**2 + L_2*d_1**2)) * Matrix([[1,-1], [1, -1]])).inv()\n",
    "# A           "
   ]
  },
  {
   "cell_type": "markdown",
   "metadata": {},
   "source": [
    "## axial currents in 3-compartment model, no branches"
   ]
  },
  {
   "cell_type": "code",
   "execution_count": null,
   "metadata": {},
   "outputs": [],
   "source": [
    "# total resistance along segment 1 and 2\n",
    "R_1 = 4 * r_a * L_1 / pi / d_1**2\n",
    "R_2 = 4 * r_a * L_2 / pi / d_2**2\n",
    "R_3 = 4 * r_a * L_3 / pi / d_3**2\n",
    "\n",
    "# potential at start point equal to center potential, compartment 1:\n",
    "V_mi1 = V_mc1\n",
    "# potential at end point, compartment 1:\n",
    "V_mf1 = (V_mc1 / R_1 / 2 + V_mc2 / R_2 / 2) / (1 / R_1 / 2 + 1 / R_2 / 2) \n",
    "# potential at start point, compartment 2:\n",
    "V_mi2 = V_mf1\n",
    "# potential at end point, compartment 2:\n",
    "V_mf2 = (V_mc2 / R_2 / 2 + V_mc3 / R_3 / 2) / (1 / R_2 / 2 + 1 / R_3 / 2) \n",
    "# potential at start point, compartment 3:\n",
    "V_mi3 = V_mf2\n",
    "# potential at end point equal to center potential, compartment 3:\n",
    "V_mf3 = V_mc3\n",
    "\n",
    "# axial current of compartment 1-3\n",
    "I_a1 = pi*d_1**2 / 4 / r_a / L_1 * (V_mi1 - V_mf1)\n",
    "I_a2 = pi*d_2**2 / 4 / r_a / L_2 * (V_mi2 - V_mf2)\n",
    "I_a3 = pi*d_3**2 / 4 / r_a / L_3 * (V_mi3 - V_mf3)\n",
    "\n",
    "# simplify \n",
    "I_a1 = I_a1.simplify()\n",
    "I_a2 = I_a2.simplify()\n",
    "I_a3 = I_a3.simplify()"
   ]
  },
  {
   "cell_type": "code",
   "execution_count": null,
   "metadata": {},
   "outputs": [],
   "source": [
    "I_a1"
   ]
  },
  {
   "cell_type": "code",
   "execution_count": null,
   "metadata": {},
   "outputs": [],
   "source": [
    "I_a1,"
   ]
  },
  {
   "cell_type": "code",
   "execution_count": null,
   "metadata": {},
   "outputs": [],
   "source": [
    "I_a2"
   ]
  },
  {
   "cell_type": "code",
   "execution_count": null,
   "metadata": {},
   "outputs": [],
   "source": [
    "I_a2,"
   ]
  },
  {
   "cell_type": "code",
   "execution_count": null,
   "metadata": {},
   "outputs": [],
   "source": [
    "I_a3"
   ]
  },
  {
   "cell_type": "code",
   "execution_count": null,
   "metadata": {},
   "outputs": [],
   "source": [
    "I_a3,"
   ]
  },
  {
   "cell_type": "markdown",
   "metadata": {},
   "source": [
    "## axial currents in 3-compartment model, branch point"
   ]
  },
  {
   "cell_type": "code",
   "execution_count": null,
   "metadata": {},
   "outputs": [],
   "source": [
    "# total resistance along segment 1 and 2\n",
    "R_1 = 4 * r_a * L_1 / pi / d_1**2\n",
    "R_2 = 4 * r_a * L_2 / pi / d_2**2\n",
    "R_3 = 4 * r_a * L_3 / pi / d_3**2\n",
    "\n",
    "# potential at start point equal to center potential, compartment 1:\n",
    "V_mi1 = V_mc1\n",
    "# potential at end point, compartment 1:\n",
    "V_mf1 = (V_mc1 / R_1 / 2 + V_mc2 / R_2 / 2 + V_mc3 / R_3 / 2) / (1 / R_1 / 2 + 1 / R_2 / 2 + 1 / R_3 / 2) \n",
    "# potential at start point, compartment 2:\n",
    "V_mi2 = V_mf1\n",
    "# potential at end point, compartment 2:\n",
    "V_mf2 = V_mc2\n",
    "# potential at start point, compartment 3:\n",
    "V_mi3 = V_mf1\n",
    "# potential at end point equal to center potential, compartment 3:\n",
    "V_mf3 = V_mc3\n",
    "\n",
    "\n",
    "# axial current of compartment 1-3\n",
    "I_a1 = pi*d_1**2 / 4 / r_a / L_1 * (V_mi1 - V_mf1)\n",
    "I_a2 = pi*d_2**2 / 4 / r_a / L_2 * (V_mi2 - V_mf2)\n",
    "I_a3 = pi*d_3**2 / 4 / r_a / L_3 * (V_mi3 - V_mf3)\n",
    "\n",
    "# simplify \n",
    "I_a1 = I_a1.simplify()\n",
    "I_a2 = I_a2.simplify()\n",
    "I_a3 = I_a3.simplify()"
   ]
  },
  {
   "cell_type": "code",
   "execution_count": null,
   "metadata": {},
   "outputs": [],
   "source": [
    "I_a1"
   ]
  },
  {
   "cell_type": "code",
   "execution_count": null,
   "metadata": {},
   "outputs": [],
   "source": [
    "I_a2"
   ]
  },
  {
   "cell_type": "code",
   "execution_count": null,
   "metadata": {},
   "outputs": [],
   "source": [
    "I_a3"
   ]
  },
  {
   "cell_type": "markdown",
   "metadata": {},
   "source": [
    "## axial current in constant-diameter, 3-compartment unbranched cable"
   ]
  },
  {
   "cell_type": "code",
   "execution_count": null,
   "metadata": {},
   "outputs": [],
   "source": [
    "# total resistance along segment 1 and 2\n",
    "R, L, d = symbols('R L d')\n",
    "R = 4 * r_a * L / pi / d**2\n",
    "\n",
    "# potential at start point equal to center potential, compartment 1:\n",
    "V_mi1 = V_mc1\n",
    "# potential at end point, compartment 1:\n",
    "V_mf1 = (V_mc1 / R / 2 + V_mc2 / R / 2) / (1 / R / 2 + 1 / R / 2) \n",
    "# potential at start point, compartment 2:\n",
    "V_mi2 = V_mf1\n",
    "# potential at end point, compartment 2:\n",
    "V_mf2 = (V_mc2 / R / 2 + V_mc3 / R / 2) / (1 / R / 2 + 1 / R / 2) \n",
    "# potential at start point, compartment 3:\n",
    "V_mi3 = V_mf2\n",
    "# potential at end point equal to center potential, compartment 3:\n",
    "V_mf3 = V_mc3\n",
    "\n",
    "# axial current of compartment 1-3\n",
    "I_a1 = - pi*d**2 / 4 / r_a / L * (V_mi1 - V_mf1)\n",
    "I_a2 = - pi*d**2 / 4 / r_a / L * (V_mi2 - V_mf2)\n",
    "I_a3 = - pi*d**2 / 4 / r_a / L * (V_mi3 - V_mf3)\n",
    "\n",
    "# simplify \n",
    "I_a1 = I_a1.simplify()\n",
    "I_a2 = I_a2.simplify()\n",
    "I_a3 = I_a3.simplify()"
   ]
  },
  {
   "cell_type": "code",
   "execution_count": null,
   "metadata": {},
   "outputs": [],
   "source": [
    "I_a1"
   ]
  },
  {
   "cell_type": "code",
   "execution_count": null,
   "metadata": {},
   "outputs": [],
   "source": [
    "I_a2"
   ]
  },
  {
   "cell_type": "code",
   "execution_count": null,
   "metadata": {},
   "outputs": [],
   "source": [
    "I_a3"
   ]
  },
  {
   "cell_type": "code",
   "execution_count": null,
   "metadata": {},
   "outputs": [],
   "source": []
  }
 ],
 "metadata": {
  "kernelspec": {
   "display_name": "Python 3 (ipykernel)",
   "language": "python",
   "name": "python3"
  },
  "language_info": {
   "codemirror_mode": {
    "name": "ipython",
    "version": 3
   },
   "file_extension": ".py",
   "mimetype": "text/x-python",
   "name": "python",
   "nbconvert_exporter": "python",
   "pygments_lexer": "ipython3",
   "version": "3.10.6"
  },
  "vscode": {
   "interpreter": {
    "hash": "337c10ba89add24378815887af17fd7e9560eaeff9b709b3bf02497a463d72e4"
   }
  }
 },
 "nbformat": 4,
 "nbformat_minor": 4
}
