{
 "cells": [
  {
   "cell_type": "markdown",
   "id": "2b593d8a",
   "metadata": {},
   "source": [
    "# Simple illustration of frequency content"
   ]
  },
  {
   "cell_type": "code",
   "execution_count": null,
   "id": "19000bc4",
   "metadata": {},
   "outputs": [],
   "source": [
    "%matplotlib inline\n",
    "import elephant\n",
    "import numpy as np\n",
    "import matplotlib.pyplot as plt\n",
    "from brainsignals.plotting_convention import mark_subplots, simplify_axes, cmap_v_e\n",
    "import brainsignals.neural_simulations as ns"
   ]
  },
  {
   "cell_type": "code",
   "execution_count": null,
   "id": "a9b51210",
   "metadata": {},
   "outputs": [],
   "source": [
    "T = 50000\n",
    "dt = 0.1\n",
    "\n",
    "a1 = 8\n",
    "a2 = 6\n",
    "a3 = 7\n",
    "\n",
    "f1 = 17 / 1000\n",
    "f2 = 149 / 1000\n",
    "f3 = 500 / 1000\n",
    "\n",
    "t = np.arange(T / dt + 1) * dt\n",
    "\n",
    "sig = a1*np.sin(2*np.pi*f1*t) + a2*np.sin(2*np.pi*f2*t) + a3*np.sin(2*np.pi*f3*t)\n",
    "\n",
    "freqs, sig_psd = ns.return_freq_and_amplitude(t, sig)\n",
    "\n",
    "filt_dict_lf = {'highpass_freq': None,\n",
    "                 'lowpass_freq': 300,\n",
    "                 'order': 4,\n",
    "                 'filter_function': 'filtfilt',\n",
    "                 'fs': 1 / dt * 1000,\n",
    "                 'axis': -1}\n",
    "\n",
    "\n",
    "filt_dict_hf = {'highpass_freq': 300,\n",
    "                 'lowpass_freq': None,\n",
    "                 'order': 4,\n",
    "                 'filter_function': 'filtfilt',\n",
    "                 'fs': 1 / dt * 1000,\n",
    "                 'axis': -1}\n",
    "\n",
    "\n",
    "sig_lp = elephant.signal_processing.butter(sig, **filt_dict_lf)\n",
    "sig_hp = elephant.signal_processing.butter(sig, **filt_dict_hf)\n",
    "\n",
    "\n",
    "fig = plt.figure(figsize=[6, 2.2])\n",
    "fig.subplots_adjust(wspace=0.6, top=0.85, bottom=0.17, right=0.95)\n",
    "ax1 = fig.add_subplot(141, xlim=[0, 50], xlabel=\"time (ms)\", ylabel=\"µV\")\n",
    "ax2 = fig.add_subplot(142, xlim=[1, 550], xlabel=\"frequency (Hz)\", ylabel=\"µV / Hz\")\n",
    "ax3 = fig.add_subplot(143, xlim=[0, 50], xlabel=\"time (ms)\", ylabel=\"µV\")\n",
    "ax4 = fig.add_subplot(144, xlim=[0, 50], xlabel=\"time (ms)\", ylabel=\"µV\")\n",
    "\n",
    "ax1.plot(t, sig, lw=1, c='k')\n",
    "\n",
    "ax2.plot(freqs, sig_psd[0], c='k', lw=1)\n",
    "\n",
    "ax3.plot(t, sig_lp, c='k', lw=1)\n",
    "ax4.plot(t, sig_hp, c='k', lw=1)\n",
    "\n",
    "simplify_axes(fig.axes)\n",
    "mark_subplots(fig.axes)\n",
    "fig.savefig(\"sinus_fft.pdf\")"
   ]
  },
  {
   "cell_type": "code",
   "execution_count": null,
   "id": "99dbe75e",
   "metadata": {},
   "outputs": [],
   "source": []
  }
 ],
 "metadata": {
  "kernelspec": {
   "display_name": "Python 3 (ipykernel)",
   "language": "python",
   "name": "python3"
  },
  "language_info": {
   "codemirror_mode": {
    "name": "ipython",
    "version": 3
   },
   "file_extension": ".py",
   "mimetype": "text/x-python",
   "name": "python",
   "nbconvert_exporter": "python",
   "pygments_lexer": "ipython3",
   "version": "3.11.3"
  }
 },
 "nbformat": 4,
 "nbformat_minor": 5
}
