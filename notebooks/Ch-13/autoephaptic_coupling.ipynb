{
 "cells": [
  {
   "cell_type": "markdown",
   "metadata": {},
   "source": [
    "# Illustration of autoephaptic coupling"
   ]
  },
  {
   "cell_type": "code",
   "execution_count": null,
   "metadata": {
    "pycharm": {
     "name": "#%%\n"
    }
   },
   "outputs": [],
   "source": [
    "%matplotlib inline\n",
    "from os.path import join\n",
    "import numpy as np\n",
    "import matplotlib.pyplot as plt\n",
    "import LFPy\n",
    "import brainsignals.neural_simulations as ns\n",
    "from brainsignals.plotting_convention import mark_subplots, simplify_axes\n",
    "\n",
    "ns.load_mechs_from_folder(ns.cell_models_folder)\n",
    "ns.load_mechs_from_folder(join(ns.hay_folder, \"mod\"))\n",
    "np.random.seed(12345)\n",
    "\n",
    "tstop = 30\n",
    "dt = 2**-6\n",
    "sigma = 0.3"
   ]
  },
  {
   "cell_type": "code",
   "execution_count": null,
   "metadata": {
    "pycharm": {
     "name": "#%%\n"
    }
   },
   "outputs": [],
   "source": [
    "def return_hay_cell(tstop, dt):\n",
    "    cell_params = {\n",
    "        'morphology': join(ns.hay_folder, \"morphologies\", \"cell1.asc\"),\n",
    "        'templatefile': [join(ns.hay_folder, 'models', 'L5PCbiophys3.hoc'),\n",
    "                         join(ns.hay_folder, 'models', 'L5PCtemplate.hoc')],\n",
    "        'templatename': 'L5PCtemplate',\n",
    "        'templateargs': join(ns.hay_folder, 'morphologies', 'cell1.asc'),\n",
    "        'passive': False,\n",
    "        'nsegs_method': None,\n",
    "        'dt': dt,\n",
    "        'tstart': -200,\n",
    "        'tstop': tstop,\n",
    "        'v_init': -75,\n",
    "        'celsius': 34,\n",
    "        'pt3d': True,\n",
    "        'extracellular': True,\n",
    "    }\n",
    "    cell = LFPy.TemplateCell(**cell_params)\n",
    "    cell.set_rotation(x=4.729, y=-3.166)\n",
    "    return cell\n",
    "\n",
    "\n",
    "def insert_synaptic_input(cell, synidx):\n",
    "\n",
    "    synapse_parameters = dict(\n",
    "                          idx = synidx,\n",
    "                          e = 0., # reversal potential\n",
    "                          weight = 0.15, # synapse weight\n",
    "                          record_current = True, # record synapse current\n",
    "                          syntype = 'Exp2Syn',\n",
    "                          tau1 = 0.1, #Time constant, rise\n",
    "                          tau2 = 1.0, #Time constant, decay\n",
    "                          )\n",
    "    synapse = LFPy.Synapse(cell, **synapse_parameters)\n",
    "    synapse.set_spike_times(np.array([3.]))\n",
    "    return synapse, cell"
   ]
  },
  {
   "cell_type": "code",
   "execution_count": null,
   "metadata": {
    "pycharm": {
     "name": "#%%\n"
    }
   },
   "outputs": [],
   "source": [
    "cell = return_hay_cell(tstop, dt)\n",
    "plot_idxs = [cell.get_closest_idx(0, 0, np.max(cell.z)),\n",
    "             cell.get_closest_idx(0, 0, np.max(cell.z) / 2),\n",
    "             cell.get_closest_idx(0, 0, 0),\n",
    "             ]\n",
    "plot_idx_clrs = ['b', 'gray', 'r']\n",
    "\n",
    "# Store for later plotting:\n",
    "cell_x = cell.x.copy()\n",
    "cell_z = cell.z.copy()\n",
    "\n",
    "elec_params = dict(\n",
    "            sigma = sigma,      # extracellular conductivity\n",
    "            x = cell.x.mean(axis=1),\n",
    "            y = cell.y.mean(axis=1),\n",
    "            z = cell.z.mean(axis=1),\n",
    "            method = 'pointsource',\n",
    "        )\n",
    "elec = LFPy.RecExtElectrode(cell, **elec_params)\n",
    "M_elec = elec.get_transformation_matrix().copy()\n",
    "\n",
    "synidx = cell.get_closest_idx(x=0, y=0, z=0)\n",
    "\n",
    "# Original un-ephaptic simulation:\n",
    "syn, cell = insert_synaptic_input(cell, synidx)\n",
    "cell.simulate(rec_imem=True, rec_vmem=True)\n",
    "t = cell.tvec.copy()\n",
    "v_orig = cell.vmem.copy()\n",
    "self_caused_pot = M_elec @ cell.imem\n",
    "self_caused_pot_orig = self_caused_pot.copy()\n",
    "cell.__del__()\n",
    "\n",
    "for iteration in range(5):\n",
    "    cell = return_hay_cell(tstop, dt)\n",
    "    syn, cell = insert_synaptic_input(cell, synidx)\n",
    "    cell.insert_v_ext(self_caused_pot, t)\n",
    "\n",
    "    cell.simulate(rec_imem=True, rec_vmem=True)\n",
    "    self_caused_pot_ = M_elec @ cell.imem\n",
    "    vmem = cell.vmem.copy()\n",
    "    max_error = np.max(np.abs((self_caused_pot_ - self_caused_pot)) /\n",
    "                 np.max(np.abs(self_caused_pot)))\n",
    "    print(\"Max relative error: {:1.5f}\".format(max_error))\n",
    "    self_caused_pot = self_caused_pot_\n",
    "    del cell\n",
    "    del syn\n"
   ]
  },
  {
   "cell_type": "code",
   "execution_count": null,
   "metadata": {
    "pycharm": {
     "name": "#%%\n"
    }
   },
   "outputs": [],
   "source": [
    "\n",
    "fig = plt.figure()\n",
    "\n",
    "ax1 = fig.add_axes([0.0, 0.0, 0.15, 0.99], aspect=1, xlim=[-250, 250],\n",
    "                   frameon=False, xticks=[], yticks=[])\n",
    "ax1.plot(cell_x.T, cell_z.T, 'k', lw=1)\n",
    "\n",
    "for i, comp in enumerate(plot_idxs):\n",
    "    c = plot_idx_clrs[i]\n",
    "    ax1.plot(cell_x[comp].mean(), cell_z[comp].mean(), 'o', c=c)\n",
    "    ax_v = fig.add_axes([0.21, 0.75 - i / 3 * 0.87, 0.19, 0.17],\n",
    "                           ylabel=\"mV\",)\n",
    "    ax_ecp = fig.add_axes([0.51, 0.75 - i / 3 * 0.87, 0.19, 0.17],\n",
    "                           ylabel=\"mV\",)\n",
    "    ax_diff = fig.add_axes([0.78, 0.75 - i / 3 * 0.87, 0.19, 0.17],\n",
    "                           ylabel=\"mV\",)\n",
    "    if i == 0:\n",
    "        ax_v.set_title(r\"V$_{\\rm m}$\")\n",
    "        ax_ecp.set_title(r\"V$_{\\rm e}$\")\n",
    "        ax_diff.set_title(r\"difference in V$_{\\rm m}$\")\n",
    "    if i == 2:\n",
    "        ax_v.set_xlabel(\"time (ms)\", labelpad=-1)\n",
    "        ax_ecp.set_xlabel(\"time (ms)\", labelpad=-1)\n",
    "        ax_diff.set_xlabel(\"time (ms)\", labelpad=-1)\n",
    "\n",
    "    ax_v.plot(t, v_orig[comp], c=c)\n",
    "    ax_v.plot(t, vmem[comp], c='k', ls='--')\n",
    "\n",
    "    ax_diff.plot(t, vmem[comp] - v_orig[comp], c=c)\n",
    "\n",
    "    l_orig, = ax_ecp.plot(t, self_caused_pot_orig[comp], c=c)\n",
    "    l_efap, = ax_ecp.plot(t, self_caused_pot[comp], c='k', ls='--')\n",
    "\n",
    "l_orig, = ax_ecp.plot([], [], c='k')\n",
    "\n",
    "mark_subplots(fig.axes[0], \"A\", ypos=0.95, xpos=0.05)\n",
    "mark_subplots(fig.axes[1:], \"BEHCFIDGJ\", ypos=1.24)\n",
    "simplify_axes(fig.axes)\n",
    "fig.legend([l_orig, l_efap], [\"control\", \"auto-ephaptic\"], ncol=2,\n",
    "           loc=(0.55, -0.01), frameon=False)\n",
    "\n",
    "plt.savefig(\"fig_ephaptic_hay_active.pdf\")\n"
   ]
  },
  {
   "cell_type": "markdown",
   "metadata": {
    "pycharm": {
     "name": "#%%\n"
    }
   },
   "source": [
    "#  Figure caption: Auto-ephaptic coupling\n",
    "\n",
    "__A__ : The Hay model, driven to fire action potentials by a strong synaptic input to the soma.\n",
    "\n",
    "__B__,__C__,__D__: Membrane potential at three different positions (marked in panel A). The full lines of different colors corespond to the different locations, without auto-ephaptic effects. The dashed lines show the result of an iterative procedure, where the simulated extracellular potential outside every cellular compartment is in the next iteration used as a boundary condition, until the predicted and enforced extracellular potentials have converged. In practice a few iterations are sufficient. \n",
    "\n",
    "__E__, __F__, __G__: Extracellular potential at three different positions, corresponding to directly outside the membrane of the different locations marked in panel A. Extracellular potetials like these are used as a boundary condition in the simulations.\n",
    "\n",
    "__H__, __I__, __J__: Difference between control and auto-ephaptic in panel B-D.\n"
   ]
  },
  {
   "cell_type": "code",
   "execution_count": null,
   "metadata": {
    "pycharm": {
     "name": "#%%\n"
    }
   },
   "outputs": [],
   "source": []
  }
 ],
 "metadata": {
  "kernelspec": {
   "display_name": "Python 3 (ipykernel)",
   "language": "python",
   "name": "python3"
  },
  "language_info": {
   "codemirror_mode": {
    "name": "ipython",
    "version": 3
   },
   "file_extension": ".py",
   "mimetype": "text/x-python",
   "name": "python",
   "nbconvert_exporter": "python",
   "pygments_lexer": "ipython3",
   "version": "3.11.3"
  }
 },
 "nbformat": 4,
 "nbformat_minor": 1
}
