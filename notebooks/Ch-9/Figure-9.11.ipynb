{
 "cells": [
  {
   "cell_type": "markdown",
   "metadata": {},
   "source": [
    "# Only Pz remains for many synaptic inputs"
   ]
  },
  {
   "cell_type": "code",
   "execution_count": null,
   "metadata": {},
   "outputs": [],
   "source": [
    "%matplotlib inline\n",
    "import numpy as np\n",
    "import matplotlib.pyplot as plt\n",
    "import LFPy\n",
    "from lfpykit.models import CurrentDipoleMoment\n",
    "from brainsignals.plotting_convention import mark_subplots\n",
    "from brainsignals import neural_simulations as ns"
   ]
  },
  {
   "cell_type": "code",
   "execution_count": null,
   "metadata": {},
   "outputs": [],
   "source": [
    "np.random.seed(1234)\n",
    "dt = 2**-4\n",
    "tstop = 20\n",
    "\n",
    "# Define synapse parameters\n",
    "synapse_params = {\n",
    "    'e' : 0.,                   # reversal potential\n",
    "    'syntype' : 'Exp2Syn',       # synapse type\n",
    "    'tau1' : 0.1,                 # synaptic time constant\n",
    "    'tau2' : 1.,                 # synaptic time constant\n",
    "    'weight' : 0.001,            # synaptic weight\n",
    "    'record_current' : False,    # record synapse current\n",
    "}\n",
    "\n",
    "cell = ns.return_hay_cell(tstop, dt, make_passive=True)\n",
    "\n",
    "# Store for plotting\n",
    "cell_x, cell_z = cell.x.copy(), cell.z.copy()\n",
    "synidxs = cell.get_rand_idx_area_norm(z_min=-1e9, z_max=300, nidx=100)\n",
    "del cell"
   ]
  },
  {
   "cell_type": "code",
   "execution_count": null,
   "metadata": {},
   "outputs": [],
   "source": [
    "cdms = []\n",
    "tvec = None\n",
    "for s_, synidx in enumerate(synidxs):\n",
    "    print(s_ + 1, \"/\", len(synidxs))\n",
    "    cell = ns.return_hay_cell(tstop, dt, make_passive=True)\n",
    "\n",
    "    synapse_params[\"idx\"] = synidx\n",
    "    synapse = LFPy.Synapse(cell, **synapse_params)\n",
    "    synapse.set_spike_times(np.array([1.]))\n",
    "\n",
    "    cell.simulate(rec_imem=True, rec_vmem=True)\n",
    "    cdm = CurrentDipoleMoment(cell).get_transformation_matrix() @ cell.imem\n",
    "    cdms.append(cdm.copy())\n",
    "    if s_ == 0:\n",
    "        tvec = cell.tvec.copy()\n",
    "    del cell\n",
    "    del synapse\n",
    "    del cdm\n",
    "\n",
    "# Now doing simultaneous input\n",
    "cell = ns.return_hay_cell(tstop, dt, make_passive=True)\n",
    "for s_, synidx in enumerate(synidxs):\n",
    "    synapse_params[\"idx\"] = synidx\n",
    "    synapse = LFPy.Synapse(cell, **synapse_params)\n",
    "    synapse.set_spike_times(np.array([1.]))\n",
    "\n",
    "cell.simulate(rec_imem=True, rec_vmem=True)\n",
    "cdms_sum = CurrentDipoleMoment(cell).get_transformation_matrix() @ cell.imem\n",
    "\n",
    "cdm_max = 3 #np.max(np.abs(cdms)) * 0.75\n",
    "cdm_sum_max = 60 #np.max(np.abs(cdms_sum)) * 0.75\n"
   ]
  },
  {
   "cell_type": "code",
   "execution_count": null,
   "metadata": {
    "pycharm": {
     "name": "#%%\n"
    }
   },
   "outputs": [],
   "source": [
    "\n",
    "fig = plt.figure()\n",
    "fig.subplots_adjust(bottom=0.01, top=0.9, right=0.99, left=0.23,\n",
    "                    wspace=0.3, hspace=0.3,)\n",
    "ax0 = fig.add_axes([0.0, 0.05, 0.15, 0.9], aspect=1,\n",
    "                   frameon=False, xticks=[], yticks=[])\n",
    "\n",
    "ax_dict = dict(ylim=[-cdm_max, cdm_max],\n",
    "               frameon=False, xticks=[], yticks=[])\n",
    "ax_ind_1 = fig.add_subplot(321, **ax_dict)\n",
    "ax_ind_2 = fig.add_subplot(323, **ax_dict)\n",
    "ax_ind_3 = fig.add_subplot(325, **ax_dict)\n",
    "\n",
    "ax_dict = dict(ylim=[-cdm_sum_max, cdm_sum_max],\n",
    "               frameon=False, xticks=[], yticks=[])\n",
    "ax_sum_1 = fig.add_subplot(322, **ax_dict)\n",
    "ax_sum_2 = fig.add_subplot(324, **ax_dict)\n",
    "ax_sum_3 = fig.add_subplot(326, **ax_dict)\n",
    "\n",
    "ax_ind_1.text(-3, 0, \"$P_x$\", va=\"center\")\n",
    "ax_ind_2.text(-3, 0, \"$P_y$\", va=\"center\")\n",
    "ax_ind_3.text(-3, 0, \"$P_z$\", va=\"center\")\n",
    "\n",
    "ax_sum_1.text(-3, 0, \"$P_x$\", va=\"center\")\n",
    "ax_sum_2.text(-3, 0, \"$P_y$\", va=\"center\")\n",
    "ax_sum_3.text(-3, 0, \"$P_z$\", va=\"center\")\n",
    "\n",
    "fig.text(0.35, 0.98, \"individual inputs\", ha=\"center\", va=\"top\")\n",
    "fig.text(0.8, 0.98, \"simultaneous inputs\", ha=\"center\", va=\"top\")\n",
    "\n",
    "ax0.plot(cell_x.T, cell_z.T, c='k')\n",
    "ax0.plot(cell_x[synidxs].mean(axis=1), cell_z[synidxs].mean(axis=1), 'o',\n",
    "         ms=2, c='b')\n",
    "\n",
    "ax_ind_3.plot([tstop - 6, tstop - 6], [1, 1+cdm_max], clip_on=False, c='k', lw=1)\n",
    "ax_ind_3.text(tstop - 5.7, 1 + cdm_max/2, \"{:d} nA µm\".format(int(cdm_max)),\n",
    "              ha='left', va=\"center\")\n",
    "\n",
    "ax_sum_3.plot([tstop - 6, tstop - 6], [40, 40+cdm_sum_max], clip_on=False, c='k', lw=1)\n",
    "ax_sum_3.text(tstop - 5.7, 40 + cdm_sum_max/2, \"{:d} nA µm\".format(int(cdm_sum_max)),\n",
    "              ha='left', va=\"center\")\n",
    "\n",
    "ax_ind_1.plot([tstop - 5, tstop], [-1, -1], c='k', lw=1)\n",
    "ax_ind_1.text(tstop - 2.5, -1.3, \"5 ms\", ha=\"center\", va=\"top\")\n",
    "\n",
    "ax_sum_1.plot([tstop - 5, tstop], [-18, -18], c='k', lw=1)\n",
    "ax_sum_1.text(tstop - 2.5, -25, \"5 ms\", ha=\"center\", va=\"top\")\n",
    "\n",
    "for s_, synidx in enumerate(synidxs):\n",
    "    ax_ind_1.plot(tvec, cdms[s_][0, :], c='k', clip_on=False, lw=0.3)\n",
    "    ax_ind_2.plot(tvec, cdms[s_][1, :], c='k', clip_on=False, lw=0.3)\n",
    "    ax_ind_3.plot(tvec, cdms[s_][2, :], c='k', clip_on=False, lw=0.3)\n",
    "\n",
    "ax_sum_1.plot(tvec, cdms_sum[0, :], c='k', clip_on=False)\n",
    "ax_sum_2.plot(tvec, cdms_sum[1, :], c='k', clip_on=False)\n",
    "ax_sum_3.plot(tvec, cdms_sum[2, :], c='k', clip_on=False)\n",
    "\n",
    "mark_subplots(ax0, \"A\", xpos=0.05, ypos=.99)\n",
    "mark_subplots(ax_ind_1, \"B\", xpos=-0.05, ypos=1.2)\n",
    "mark_subplots(ax_sum_1, \"C\", xpos=-0.05, ypos=1.2)\n",
    "\n",
    "plt.savefig(\"pz_remains.pdf\")"
   ]
  },
  {
   "cell_type": "code",
   "execution_count": null,
   "metadata": {
    "pycharm": {
     "name": "#%%\n"
    }
   },
   "outputs": [],
   "source": []
  }
 ],
 "metadata": {
  "kernelspec": {
   "display_name": "Python 3 (ipykernel)",
   "language": "python",
   "name": "python3"
  },
  "language_info": {
   "codemirror_mode": {
    "name": "ipython",
    "version": 3
   },
   "file_extension": ".py",
   "mimetype": "text/x-python",
   "name": "python",
   "nbconvert_exporter": "python",
   "pygments_lexer": "ipython3",
   "version": "3.11.3"
  }
 },
 "nbformat": 4,
 "nbformat_minor": 4
}
