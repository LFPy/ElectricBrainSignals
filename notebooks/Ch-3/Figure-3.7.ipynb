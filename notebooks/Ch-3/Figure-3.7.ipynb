{
 "cells": [
  {
   "cell_type": "markdown",
   "metadata": {},
   "source": [
    "# Illustration of intrinsic dendritic filtering"
   ]
  },
  {
   "cell_type": "code",
   "execution_count": null,
   "metadata": {},
   "outputs": [],
   "source": [
    "%matplotlib inline\n",
    "import numpy as np\n",
    "import matplotlib.pyplot as plt\n",
    "from brainsignals.plotting_convention import mark_subplots, simplify_axes"
   ]
  },
  {
   "cell_type": "code",
   "execution_count": null,
   "metadata": {},
   "outputs": [],
   "source": [
    "d = 2 * 1e-6  # µm -> m\n",
    "R_m = 3e4 * 1e-4 # Ohm cm² -> Ohm m²\n",
    "R_i = 150 * 1e-2 # Ohm cm -> Ohm m\n",
    "C_m = 1 * 1e-2  # uF / cm² -> F / m²\n",
    "lambda_0 = np.sqrt(d * R_m / 4 / R_i)  # m\n",
    "\n",
    "frequencies = np.arange(1501)\n",
    "omegas = 2 * np.pi * frequencies\n",
    "zs = np.linspace(0, 1.5e-3, 100)\n",
    "\n",
    "tau = R_m * C_m\n",
    "\n",
    "l = 1\n",
    "s = np.sqrt(1 + 1j * omegas * tau)\n",
    "\n",
    "def return_abs_H(s_, z_, l=1):\n",
    "    exp_1 = 2 * s_ * l / lambda_0\n",
    "    exp_2 = s_ * z_ / lambda_0\n",
    "    \n",
    "    if exp_1 > 30: \n",
    "        term1 = 0 + 0j\n",
    "    else:\n",
    "        num1 = np.exp(+exp_2)\n",
    "        den1 = 1 + np.exp(exp_1)\n",
    "        term1 = num1 / den1\n",
    "        \n",
    "    term2 = np.exp(-exp_2) / (1 + np.exp(-exp_1))\n",
    "    H = np.pi * s_**2 * d / R_m * (term1 + term2)\n",
    "    return np.abs(H)\n",
    "\n",
    "def return_abs_H_matrix(s, z, l):\n",
    "    H = np.zeros((len(z), len(s)), dtype=complex)\n",
    "    for s_idx in range(len(s)):\n",
    "        H[:, s_idx] = return_abs_H(s[s_idx], z, l)\n",
    "    return H\n",
    "\n",
    "\n",
    "fig = plt.figure(figsize=(2.5, 4.2))\n",
    "fig.subplots_adjust(bottom=0.18, wspace=0.3, left=0.22, top=0.95)\n",
    "ax1 = fig.add_subplot(211, xlabel=\"distance (mm)\", xlim=[0, 1.5], \n",
    "                      ylabel=r\"|${\\bf \\hat{i}}_{\\rm{m}}$| (normalized)\")\n",
    "ax2 = fig.add_subplot(212, xlim=[0, 1000], xlabel=\"frequency (Hz)\", \n",
    "                      ylabel=r\"$\\lambda_{\\rm AC}$ (normalized)\")\n",
    "\n",
    "for f in [0, 100, 500, 1000, 1500]:\n",
    "    f_idx = np.argmin(np.abs(frequencies - f))\n",
    "    H = return_abs_H(s[f_idx], zs, l=1e9)\n",
    "    ax1.plot(zs * 1e3, H / np.max(H), label=\"%d Hz\" % f)\n",
    "ax1.legend(frameon=False, ncol=1, loc=(0.6, 0.5))\n",
    "\n",
    "lambda_ac_inf = lambda_0 * np.sqrt(2 / (1 + np.sqrt(1 + (omegas * tau)**2)))\n",
    "\n",
    "ls = [0.1e-3, 0.5e-3, 1e-3]\n",
    "\n",
    "for l in ls:\n",
    "    z_ = np.linspace(0, l, 1000)\n",
    "    H_abs = return_abs_H_matrix(s, z_, l)\n",
    "    lambda_ac = np.abs(np.trapz(z_ * H_abs.T) / np.trapz(H_abs.T))\n",
    "    ax2.plot(frequencies, lambda_ac / np.max(lambda_ac_inf), label=\"%1.1f mm\" % (l*1e3))\n",
    "    \n",
    "ax2.plot(frequencies, lambda_ac_inf/ np.max(lambda_ac_inf), label=\"$\\infty$\")\n",
    "ax2.legend(frameon=False)\n",
    "\n",
    "simplify_axes([ax1, ax2])\n",
    "mark_subplots([ax1, ax2], [\"C\", \"D\"], ypos=1.05)\n",
    "fig.savefig(\"intrinsic_dend_filt.pdf\")"
   ]
  },
  {
   "cell_type": "code",
   "execution_count": null,
   "metadata": {},
   "outputs": [],
   "source": []
  },
  {
   "cell_type": "code",
   "execution_count": null,
   "metadata": {},
   "outputs": [],
   "source": []
  }
 ],
 "metadata": {
  "kernelspec": {
   "display_name": "Python 3 (ipykernel)",
   "language": "python",
   "name": "python3"
  },
  "language_info": {
   "codemirror_mode": {
    "name": "ipython",
    "version": 3
   },
   "file_extension": ".py",
   "mimetype": "text/x-python",
   "name": "python",
   "nbconvert_exporter": "python",
   "pygments_lexer": "ipython3",
   "version": "3.11.3"
  }
 },
 "nbformat": 4,
 "nbformat_minor": 4
}
